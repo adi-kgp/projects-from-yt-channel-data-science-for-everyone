


import numpy as np
import matplotlib.pyplot as plt


def f(x):
    return np.sin(x) + 0.5*x


def create_plot(x, y, styles, labels, axlabels):
    plt.figure(figsize=(10,6))
    for i in range(len(x)):
        plt.plot(x[i], y[i], styles[i], label=labels[i])
        plt.xlabel(axlabels[0])
        plt.ylabel(axlabels[1])
    plt.legend(loc=0)


x = np.linspace(-2 * np.pi, 2 * np.pi, 50)


mat = np.zeros((3+1, len(x)))


mat


mat[3, :] = x**3 # cubic
mat[2, :] = x**2
mat[1, :] = x
mat[0, :] = 1 # constant


mat


reg = np.linalg.lstsq(mat.T, f(x), rcond=None)[0]


reg.round(4) # optimal reg params


ry = np.dot(reg, mat)


create_plot([x,x], [f(x), ry], ['b', 'r.'], ['f(x)', 'reg'], ['x', 'f(x)'])


mat[3, :] = np.sin(x)


reg = np.linalg.lstsq(mat.T, f(x), rcond=None)[0]


ry = np.dot(reg, mat)


np.allclose(f(x), ry)


np.mean((f(x) - ry)**2)


create_plot([x,x], [f(x), ry], ['b', 'r.'], ['f(x)', 'reg'], ['x', 'f(x)'])



