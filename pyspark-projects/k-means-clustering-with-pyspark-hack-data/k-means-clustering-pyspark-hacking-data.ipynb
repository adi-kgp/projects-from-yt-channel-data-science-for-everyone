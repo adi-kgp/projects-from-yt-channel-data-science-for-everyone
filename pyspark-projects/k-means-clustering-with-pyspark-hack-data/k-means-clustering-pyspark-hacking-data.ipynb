{
 "cells": [
  {
   "cell_type": "markdown",
   "id": "424f6670-c45f-4355-910f-25ce35d08f3e",
   "metadata": {},
   "source": [
    "### K Means clustering classification (unsupervised learning) on hacker data"
   ]
  },
  {
   "cell_type": "code",
   "execution_count": 3,
   "id": "34ef7651-37eb-49fd-9c51-95d70fd5cc31",
   "metadata": {},
   "outputs": [],
   "source": [
    "from pyspark.sql import SparkSession, functions\n",
    "import warnings\n",
    "warnings.filterwarnings('ignore')"
   ]
  },
  {
   "cell_type": "code",
   "execution_count": 4,
   "id": "ada431a6-f22e-43f0-93c0-4280fe0141b6",
   "metadata": {},
   "outputs": [],
   "source": [
    "spark = SparkSession.builder.appName(\"stock_price_analysis\").getOrCreate()"
   ]
  },
  {
   "cell_type": "code",
   "execution_count": 5,
   "id": "68b7e47d-f266-44ee-b44d-714a78c1994e",
   "metadata": {},
   "outputs": [
    {
     "name": "stderr",
     "output_type": "stream",
     "text": [
      "                                                                                \r"
     ]
    }
   ],
   "source": [
    "df = spark.read.csv(\"hack_data.csv\", header=True, inferSchema=True)"
   ]
  },
  {
   "cell_type": "code",
   "execution_count": 6,
   "id": "6bc5cc87-dcbf-4a9a-a7cf-48d9e33f58b5",
   "metadata": {},
   "outputs": [
    {
     "name": "stdout",
     "output_type": "stream",
     "text": [
      "+-----------------------+-----------------+---------------+-----------------+---------------+--------------------+----------------+\n",
      "|Session_Connection_Time|Bytes Transferred|Kali_Trace_Used|Servers_Corrupted|Pages_Corrupted|            Location|WPM_Typing_Speed|\n",
      "+-----------------------+-----------------+---------------+-----------------+---------------+--------------------+----------------+\n",
      "|                    8.0|           391.09|              1|             2.96|            7.0|            Slovenia|           72.37|\n",
      "|                   20.0|           720.99|              0|             3.04|            9.0|British Virgin Is...|           69.08|\n",
      "+-----------------------+-----------------+---------------+-----------------+---------------+--------------------+----------------+\n",
      "only showing top 2 rows\n",
      "\n"
     ]
    }
   ],
   "source": [
    "df.show(2)"
   ]
  },
  {
   "cell_type": "code",
   "execution_count": 11,
   "id": "08abc15d-e623-4aca-a862-214c9ffc1b83",
   "metadata": {},
   "outputs": [
    {
     "data": {
      "text/html": [
       "<div>\n",
       "<style scoped>\n",
       "    .dataframe tbody tr th:only-of-type {\n",
       "        vertical-align: middle;\n",
       "    }\n",
       "\n",
       "    .dataframe tbody tr th {\n",
       "        vertical-align: top;\n",
       "    }\n",
       "\n",
       "    .dataframe thead th {\n",
       "        text-align: right;\n",
       "    }\n",
       "</style>\n",
       "<table border=\"1\" class=\"dataframe\">\n",
       "  <thead>\n",
       "    <tr style=\"text-align: right;\">\n",
       "      <th></th>\n",
       "      <th>summary</th>\n",
       "      <th>Session_Connection_Time</th>\n",
       "      <th>Bytes Transferred</th>\n",
       "      <th>Kali_Trace_Used</th>\n",
       "      <th>Servers_Corrupted</th>\n",
       "      <th>Pages_Corrupted</th>\n",
       "      <th>Location</th>\n",
       "      <th>WPM_Typing_Speed</th>\n",
       "    </tr>\n",
       "  </thead>\n",
       "  <tbody>\n",
       "    <tr>\n",
       "      <th>0</th>\n",
       "      <td>count</td>\n",
       "      <td>334</td>\n",
       "      <td>334</td>\n",
       "      <td>334</td>\n",
       "      <td>334</td>\n",
       "      <td>334</td>\n",
       "      <td>334</td>\n",
       "      <td>334</td>\n",
       "    </tr>\n",
       "    <tr>\n",
       "      <th>1</th>\n",
       "      <td>mean</td>\n",
       "      <td>30.008982035928145</td>\n",
       "      <td>607.2452694610777</td>\n",
       "      <td>0.5119760479041916</td>\n",
       "      <td>5.258502994011977</td>\n",
       "      <td>10.838323353293413</td>\n",
       "      <td>None</td>\n",
       "      <td>57.342395209580864</td>\n",
       "    </tr>\n",
       "    <tr>\n",
       "      <th>2</th>\n",
       "      <td>stddev</td>\n",
       "      <td>14.088200614636158</td>\n",
       "      <td>286.33593163576757</td>\n",
       "      <td>0.5006065264451406</td>\n",
       "      <td>2.30190693339697</td>\n",
       "      <td>3.06352633036022</td>\n",
       "      <td>None</td>\n",
       "      <td>13.41106336843464</td>\n",
       "    </tr>\n",
       "    <tr>\n",
       "      <th>3</th>\n",
       "      <td>min</td>\n",
       "      <td>1.0</td>\n",
       "      <td>10.0</td>\n",
       "      <td>0</td>\n",
       "      <td>1.0</td>\n",
       "      <td>6.0</td>\n",
       "      <td>Afghanistan</td>\n",
       "      <td>40.0</td>\n",
       "    </tr>\n",
       "    <tr>\n",
       "      <th>4</th>\n",
       "      <td>max</td>\n",
       "      <td>60.0</td>\n",
       "      <td>1330.5</td>\n",
       "      <td>1</td>\n",
       "      <td>10.0</td>\n",
       "      <td>15.0</td>\n",
       "      <td>Zimbabwe</td>\n",
       "      <td>75.0</td>\n",
       "    </tr>\n",
       "  </tbody>\n",
       "</table>\n",
       "</div>"
      ],
      "text/plain": [
       "  summary Session_Connection_Time   Bytes Transferred     Kali_Trace_Used  \\\n",
       "0   count                     334                 334                 334   \n",
       "1    mean      30.008982035928145   607.2452694610777  0.5119760479041916   \n",
       "2  stddev      14.088200614636158  286.33593163576757  0.5006065264451406   \n",
       "3     min                     1.0                10.0                   0   \n",
       "4     max                    60.0              1330.5                   1   \n",
       "\n",
       "   Servers_Corrupted     Pages_Corrupted     Location    WPM_Typing_Speed  \n",
       "0                334                 334          334                 334  \n",
       "1  5.258502994011977  10.838323353293413         None  57.342395209580864  \n",
       "2   2.30190693339697    3.06352633036022         None   13.41106336843464  \n",
       "3                1.0                 6.0  Afghanistan                40.0  \n",
       "4               10.0                15.0     Zimbabwe                75.0  "
      ]
     },
     "execution_count": 11,
     "metadata": {},
     "output_type": "execute_result"
    }
   ],
   "source": [
    "df.describe().toPandas()"
   ]
  },
  {
   "cell_type": "code",
   "execution_count": 13,
   "id": "79c307c6-83d8-41ff-839d-f650e9bd8cf1",
   "metadata": {},
   "outputs": [],
   "source": [
    "from pyspark.ml.linalg import Vectors\n",
    "from pyspark.ml.feature import VectorAssembler"
   ]
  },
  {
   "cell_type": "code",
   "execution_count": 14,
   "id": "44dc7b70-2756-476f-a6fd-521f56dd8076",
   "metadata": {},
   "outputs": [
    {
     "data": {
      "text/plain": [
       "['Session_Connection_Time',\n",
       " 'Bytes Transferred',\n",
       " 'Kali_Trace_Used',\n",
       " 'Servers_Corrupted',\n",
       " 'Pages_Corrupted',\n",
       " 'Location',\n",
       " 'WPM_Typing_Speed']"
      ]
     },
     "execution_count": 14,
     "metadata": {},
     "output_type": "execute_result"
    }
   ],
   "source": [
    "df.columns"
   ]
  },
  {
   "cell_type": "code",
   "execution_count": 15,
   "id": "bf307b66-132e-410d-ad57-aa05081190df",
   "metadata": {},
   "outputs": [],
   "source": [
    "feat_cols = ['Session_Connection_Time',\n",
    " 'Bytes Transferred',\n",
    " 'Kali_Trace_Used',\n",
    " 'Servers_Corrupted',\n",
    " 'Pages_Corrupted',\n",
    " 'WPM_Typing_Speed']"
   ]
  },
  {
   "cell_type": "code",
   "execution_count": 16,
   "id": "a216fe88-c82d-496b-bef2-4ae9ebd3c7ed",
   "metadata": {},
   "outputs": [],
   "source": [
    "assembler = VectorAssembler(inputCols=feat_cols, outputCol='features')"
   ]
  },
  {
   "cell_type": "code",
   "execution_count": 18,
   "id": "96e73ef5-725d-4d5a-9970-dc4b30a5cc3b",
   "metadata": {},
   "outputs": [],
   "source": [
    "final_df = assembler.transform(df)"
   ]
  },
  {
   "cell_type": "code",
   "execution_count": 19,
   "id": "4e03aaf4-95db-49fa-8cd6-e918a7cf80fd",
   "metadata": {},
   "outputs": [],
   "source": [
    "from pyspark.ml.feature import StandardScaler"
   ]
  },
  {
   "cell_type": "code",
   "execution_count": 20,
   "id": "996ae743-0c43-434b-85fc-f8aaf0e9280d",
   "metadata": {},
   "outputs": [],
   "source": [
    "scaler = StandardScaler(inputCol='features', \n",
    "                        outputCol='scaled_feat',\n",
    "                        withStd=True,\n",
    "                       withMean=False)"
   ]
  },
  {
   "cell_type": "code",
   "execution_count": 21,
   "id": "19bbc4c6-9de8-4ea1-8ddf-ab992652729c",
   "metadata": {},
   "outputs": [],
   "source": [
    "scaled_model = scaler.fit(final_df)"
   ]
  },
  {
   "cell_type": "code",
   "execution_count": 22,
   "id": "5ae38aa8-6d49-46c4-88d7-f661e2ec7cfe",
   "metadata": {},
   "outputs": [],
   "source": [
    "cluster_df = scaled_model.transform(final_df)"
   ]
  },
  {
   "cell_type": "code",
   "execution_count": 24,
   "id": "82d5412b-095a-485b-b348-64ea5b266c0e",
   "metadata": {},
   "outputs": [],
   "source": [
    "from pyspark.ml.clustering import KMeans\n",
    "from pyspark.ml.evaluation import ClusteringEvaluator"
   ]
  },
  {
   "cell_type": "code",
   "execution_count": 25,
   "id": "d8c72cae-4aa5-4443-b7b0-f4012bb4a465",
   "metadata": {},
   "outputs": [],
   "source": [
    "eval = ClusteringEvaluator(predictionCol=\"prediction\",\n",
    "                          featuresCol=\"scaled_feat\",\n",
    "                          metricName=\"silhouette\",\n",
    "                          distanceMeasure=\"squaredEuclidean\")"
   ]
  },
  {
   "cell_type": "code",
   "execution_count": 26,
   "id": "f82415dc-d1da-46c7-a3ec-3f313f75305b",
   "metadata": {},
   "outputs": [
    {
     "name": "stdout",
     "output_type": "stream",
     "text": [
      "\n",
      "Silhouette scores for K Means Clustering\n",
      "========================================\n",
      "Model\tScore\t\n",
      "=====\t=====\t\n",
      "\n",
      "K2\t0.82\t\n",
      "K3\t0.76\t\n",
      "K4\t0.72\t\n",
      "K5\t0.66\t\n",
      "K6\t0.55\t\n",
      "K7\t0.63\t\n",
      "K8\t0.39\t\n",
      "K9\t0.39\t\n",
      "K10\t0.44\t\n"
     ]
    }
   ],
   "source": [
    "silhouette_score = []\n",
    "print(\"\"\"\n",
    "Silhouette scores for K Means Clustering\n",
    "========================================\n",
    "Model\\tScore\\t\n",
    "=====\\t=====\\t\n",
    "\"\"\")\n",
    "for k in range(2,11):\n",
    "    kmeans_algo = KMeans(featuresCol='scaled_feat', k=k)\n",
    "    kmeans_fit = kmeans_algo.fit(cluster_df)\n",
    "    output = kmeans_fit.transform(cluster_df)\n",
    "    score = eval.evaluate(output)\n",
    "    silhouette_score.append(score)\n",
    "    print(f\"K{k}\\t{round(score,2)}\\t\")"
   ]
  },
  {
   "cell_type": "code",
   "execution_count": 28,
   "id": "b13620fa-9710-4479-95c5-5df75bff1a1f",
   "metadata": {},
   "outputs": [
    {
     "data": {
      "image/png": "[encoded data removed]",
      "text/plain": [
       "<Figure size 500x500 with 1 Axes>"
      ]
     },
     "metadata": {},
     "output_type": "display_data"
    }
   ],
   "source": [
    "import matplotlib.pyplot as plt\n",
    "fig, ax = plt.subplots(1, 1, figsize=(5,5))\n",
    "ax.plot(range(2,11), silhouette_score)\n",
    "ax.set_xlabel(\"K\")\n",
    "ax.set_ylabel(\"Score\");"
   ]
  },
  {
   "cell_type": "code",
   "execution_count": null,
   "id": "669d4bae-9374-48f9-aee7-46e54adb0b3c",
   "metadata": {},
   "outputs": [],
   "source": []
  },
  {
   "cell_type": "code",
   "execution_count": null,
   "id": "3cb8673d-0ec6-4457-9412-e9b805bb9ee1",
   "metadata": {},
   "outputs": [],
   "source": []
  },
  {
   "cell_type": "code",
   "execution_count": null,
   "id": "c649381f-3aff-4b37-8fd9-4088079b4e62",
   "metadata": {},
   "outputs": [],
   "source": []
  },
  {
   "cell_type": "code",
   "execution_count": null,
   "id": "68976487-401d-440a-91c5-29e44b70cb7b",
   "metadata": {},
   "outputs": [],
   "source": []
  },
  {
   "cell_type": "code",
   "execution_count": null,
   "id": "242a83cb-0d52-403c-bead-5c95d90338ca",
   "metadata": {},
   "outputs": [],
   "source": []
  }
 ],
 "metadata": {
  "kernelspec": {
   "display_name": "Python 3 (ipykernel)",
   "language": "python",
   "name": "python3"
  },
  "language_info": {
   "codemirror_mode": {
    "name": "ipython",
    "version": 3
   },
   "file_extension": ".py",
   "mimetype": "text/x-python",
   "name": "python",
   "nbconvert_exporter": "python",
   "pygments_lexer": "ipython3",
   "version": "3.10.14"
  }
 },
 "nbformat": 4,
 "nbformat_minor": 5
}
