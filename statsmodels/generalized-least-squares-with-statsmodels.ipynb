{
 "cells": [
  {
   "cell_type": "markdown",
   "metadata": {},
   "source": [
    "### Generalized Least Squares with Statsmodels"
   ]
  },
  {
   "cell_type": "code",
   "execution_count": 10,
   "metadata": {},
   "outputs": [],
   "source": [
    "import statsmodels.api as sm"
   ]
  },
  {
   "cell_type": "code",
   "execution_count": 12,
   "metadata": {},
   "outputs": [],
   "source": [
    "# Longley datasets time series\n",
    "data = sm.datasets.longley.load()\n",
    "data.exog = sm.add_constant(data.exog)"
   ]
  },
  {
   "cell_type": "code",
   "execution_count": 17,
   "metadata": {},
   "outputs": [
    {
     "data": {
      "text/plain": [
       "0     267.340030\n",
       "1     -94.013942\n",
       "2      46.287168\n",
       "3    -410.114622\n",
       "4     309.714591\n",
       "5    -249.311215\n",
       "6    -164.048956\n",
       "7     -13.180357\n",
       "8      14.304773\n",
       "9     455.394095\n",
       "10    -17.268927\n",
       "11    -39.055043\n",
       "12   -155.549974\n",
       "13    -85.671308\n",
       "14    341.931514\n",
       "15   -206.757825\n",
       "dtype: float64"
      ]
     },
     "execution_count": 17,
     "metadata": {},
     "output_type": "execute_result"
    }
   ],
   "source": [
    "ols_resid = sm.OLS(data.endog, data.exog).fit().resid\n",
    "ols_resid"
   ]
  },
  {
   "cell_type": "code",
   "execution_count": 43,
   "metadata": {},
   "outputs": [],
   "source": [
    "resid_fit = sm.OLS(ols_resid[1:].reset_index(drop=True), sm.add_constant(ols_resid[:-1])).fit()"
   ]
  },
  {
   "cell_type": "code",
   "execution_count": 67,
   "metadata": {},
   "outputs": [
    {
     "name": "stdout",
     "output_type": "stream",
     "text": [
      "-1.4390229839613828\n",
      "0.17378444789154032\n"
     ]
    }
   ],
   "source": [
    "print(resid_fit.tvalues[1:].values[0])\n",
    "print(resid_fit.pvalues[1:].values[0])"
   ]
  },
  {
   "cell_type": "code",
   "execution_count": 69,
   "metadata": {},
   "outputs": [],
   "source": [
    "rho = resid_fit.params[1:].values[0]"
   ]
  },
  {
   "cell_type": "code",
   "execution_count": 70,
   "metadata": {},
   "outputs": [
    {
     "name": "stdout",
     "output_type": "stream",
     "text": [
      "-0.3634294908742479\n"
     ]
    }
   ],
   "source": [
    "print(rho)"
   ]
  },
  {
   "cell_type": "code",
   "execution_count": 56,
   "metadata": {},
   "outputs": [
    {
     "data": {
      "text/plain": [
       "array([[0, 1, 2, 3, 4],\n",
       "       [1, 0, 1, 2, 3],\n",
       "       [2, 1, 0, 1, 2],\n",
       "       [3, 2, 1, 0, 1],\n",
       "       [4, 3, 2, 1, 0]])"
      ]
     },
     "execution_count": 56,
     "metadata": {},
     "output_type": "execute_result"
    }
   ],
   "source": [
    "from scipy.linalg import toeplitz\n",
    "\n",
    "toeplitz(range(5))"
   ]
  },
  {
   "cell_type": "code",
   "execution_count": 57,
   "metadata": {},
   "outputs": [],
   "source": [
    "order = toeplitz(range(len(ols_resid)))"
   ]
  },
  {
   "cell_type": "code",
   "execution_count": 58,
   "metadata": {},
   "outputs": [
    {
     "name": "stdout",
     "output_type": "stream",
     "text": [
      "[[ 0  1  2  3  4  5  6  7  8  9 10 11 12 13 14 15]\n",
      " [ 1  0  1  2  3  4  5  6  7  8  9 10 11 12 13 14]\n",
      " [ 2  1  0  1  2  3  4  5  6  7  8  9 10 11 12 13]\n",
      " [ 3  2  1  0  1  2  3  4  5  6  7  8  9 10 11 12]\n",
      " [ 4  3  2  1  0  1  2  3  4  5  6  7  8  9 10 11]\n",
      " [ 5  4  3  2  1  0  1  2  3  4  5  6  7  8  9 10]\n",
      " [ 6  5  4  3  2  1  0  1  2  3  4  5  6  7  8  9]\n",
      " [ 7  6  5  4  3  2  1  0  1  2  3  4  5  6  7  8]\n",
      " [ 8  7  6  5  4  3  2  1  0  1  2  3  4  5  6  7]\n",
      " [ 9  8  7  6  5  4  3  2  1  0  1  2  3  4  5  6]\n",
      " [10  9  8  7  6  5  4  3  2  1  0  1  2  3  4  5]\n",
      " [11 10  9  8  7  6  5  4  3  2  1  0  1  2  3  4]\n",
      " [12 11 10  9  8  7  6  5  4  3  2  1  0  1  2  3]\n",
      " [13 12 11 10  9  8  7  6  5  4  3  2  1  0  1  2]\n",
      " [14 13 12 11 10  9  8  7  6  5  4  3  2  1  0  1]\n",
      " [15 14 13 12 11 10  9  8  7  6  5  4  3  2  1  0]]\n"
     ]
    }
   ],
   "source": [
    "print(order)"
   ]
  },
  {
   "cell_type": "code",
   "execution_count": 71,
   "metadata": {},
   "outputs": [],
   "source": [
    "sigma = rho ** order\n",
    "gls_model = sm.GLS(data.endog, data.exog, sigma = sigma)"
   ]
  },
  {
   "cell_type": "code",
   "execution_count": 72,
   "metadata": {},
   "outputs": [],
   "source": [
    "gls_results = gls_model.fit()"
   ]
  },
  {
   "cell_type": "code",
   "execution_count": 73,
   "metadata": {},
   "outputs": [
    {
     "name": "stderr",
     "output_type": "stream",
     "text": [
      "/home/johnadi/.local/lib/python3.10/site-packages/scipy/stats/_axis_nan_policy.py:531: UserWarning: kurtosistest only valid for n>=20 ... continuing anyway, n=16\n",
      "  res = hypotest_fun_out(*samples, **kwds)\n"
     ]
    },
    {
     "data": {
      "text/html": [
       "<table class=\"simpletable\">\n",
       "<caption>GLS Regression Results</caption>\n",
       "<tr>\n",
       "  <th>Dep. Variable:</th>         <td>TOTEMP</td>      <th>  R-squared:         </th> <td>   0.998</td>\n",
       "</tr>\n",
       "<tr>\n",
       "  <th>Model:</th>                   <td>GLS</td>       <th>  Adj. R-squared:    </th> <td>   0.997</td>\n",
       "</tr>\n",
       "<tr>\n",
       "  <th>Method:</th>             <td>Least Squares</td>  <th>  F-statistic:       </th> <td>   724.0</td>\n",
       "</tr>\n",
       "<tr>\n",
       "  <th>Date:</th>             <td>Wed, 08 May 2024</td> <th>  Prob (F-statistic):</th> <td>1.48e-11</td>\n",
       "</tr>\n",
       "<tr>\n",
       "  <th>Time:</th>                 <td>12:06:39</td>     <th>  Log-Likelihood:    </th> <td> -107.50</td>\n",
       "</tr>\n",
       "<tr>\n",
       "  <th>No. Observations:</th>      <td>    16</td>      <th>  AIC:               </th> <td>   229.0</td>\n",
       "</tr>\n",
       "<tr>\n",
       "  <th>Df Residuals:</th>          <td>     9</td>      <th>  BIC:               </th> <td>   234.4</td>\n",
       "</tr>\n",
       "<tr>\n",
       "  <th>Df Model:</th>              <td>     6</td>      <th>                     </th>     <td> </td>   \n",
       "</tr>\n",
       "<tr>\n",
       "  <th>Covariance Type:</th>      <td>nonrobust</td>    <th>                     </th>     <td> </td>   \n",
       "</tr>\n",
       "</table>\n",
       "<table class=\"simpletable\">\n",
       "<tr>\n",
       "     <td></td>        <th>coef</th>     <th>std err</th>      <th>t</th>      <th>P>|t|</th>  <th>[0.025</th>    <th>0.975]</th>  \n",
       "</tr>\n",
       "<tr>\n",
       "  <th>const</th>   <td>-3.798e+06</td> <td> 6.71e+05</td> <td>   -5.663</td> <td> 0.000</td> <td>-5.32e+06</td> <td>-2.28e+06</td>\n",
       "</tr>\n",
       "<tr>\n",
       "  <th>GNPDEFL</th> <td>  -12.7656</td> <td>   69.431</td> <td>   -0.184</td> <td> 0.858</td> <td> -169.829</td> <td>  144.298</td>\n",
       "</tr>\n",
       "<tr>\n",
       "  <th>GNP</th>     <td>   -0.0380</td> <td>    0.026</td> <td>   -1.448</td> <td> 0.182</td> <td>   -0.097</td> <td>    0.021</td>\n",
       "</tr>\n",
       "<tr>\n",
       "  <th>UNEMP</th>   <td>   -2.1869</td> <td>    0.382</td> <td>   -5.719</td> <td> 0.000</td> <td>   -3.052</td> <td>   -1.322</td>\n",
       "</tr>\n",
       "<tr>\n",
       "  <th>ARMED</th>   <td>   -1.1518</td> <td>    0.165</td> <td>   -6.970</td> <td> 0.000</td> <td>   -1.526</td> <td>   -0.778</td>\n",
       "</tr>\n",
       "<tr>\n",
       "  <th>POP</th>     <td>   -0.0681</td> <td>    0.176</td> <td>   -0.386</td> <td> 0.709</td> <td>   -0.467</td> <td>    0.331</td>\n",
       "</tr>\n",
       "<tr>\n",
       "  <th>YEAR</th>    <td> 1993.9529</td> <td>  342.635</td> <td>    5.819</td> <td> 0.000</td> <td> 1218.860</td> <td> 2769.046</td>\n",
       "</tr>\n",
       "</table>\n",
       "<table class=\"simpletable\">\n",
       "<tr>\n",
       "  <th>Omnibus:</th>       <td> 0.117</td> <th>  Durbin-Watson:     </th> <td>   2.611</td>\n",
       "</tr>\n",
       "<tr>\n",
       "  <th>Prob(Omnibus):</th> <td> 0.943</td> <th>  Jarque-Bera (JB):  </th> <td>   0.340</td>\n",
       "</tr>\n",
       "<tr>\n",
       "  <th>Skew:</th>          <td>-0.036</td> <th>  Prob(JB):          </th> <td>   0.844</td>\n",
       "</tr>\n",
       "<tr>\n",
       "  <th>Kurtosis:</th>      <td> 2.290</td> <th>  Cond. No.          </th> <td>5.61e+09</td>\n",
       "</tr>\n",
       "</table><br/><br/>Notes:<br/>[1] Standard Errors assume that the covariance matrix of the errors is correctly specified.<br/>[2] The condition number is large, 5.61e+09. This might indicate that there are<br/>strong multicollinearity or other numerical problems."
      ],
      "text/latex": [
       "\\begin{center}\n",
       "\\begin{tabular}{lclc}\n",
       "\\toprule\n",
       "\\textbf{Dep. Variable:}    &      TOTEMP      & \\textbf{  R-squared:         } &     0.998   \\\\\n",
       "\\textbf{Model:}            &       GLS        & \\textbf{  Adj. R-squared:    } &     0.997   \\\\\n",
       "\\textbf{Method:}           &  Least Squares   & \\textbf{  F-statistic:       } &     724.0   \\\\\n",
       "\\textbf{Date:}             & Wed, 08 May 2024 & \\textbf{  Prob (F-statistic):} &  1.48e-11   \\\\\n",
       "\\textbf{Time:}             &     12:06:39     & \\textbf{  Log-Likelihood:    } &   -107.50   \\\\\n",
       "\\textbf{No. Observations:} &          16      & \\textbf{  AIC:               } &     229.0   \\\\\n",
       "\\textbf{Df Residuals:}     &           9      & \\textbf{  BIC:               } &     234.4   \\\\\n",
       "\\textbf{Df Model:}         &           6      & \\textbf{                     } &             \\\\\n",
       "\\textbf{Covariance Type:}  &    nonrobust     & \\textbf{                     } &             \\\\\n",
       "\\bottomrule\n",
       "\\end{tabular}\n",
       "\\begin{tabular}{lcccccc}\n",
       "                 & \\textbf{coef} & \\textbf{std err} & \\textbf{t} & \\textbf{P$> |$t$|$} & \\textbf{[0.025} & \\textbf{0.975]}  \\\\\n",
       "\\midrule\n",
       "\\textbf{const}   &   -3.798e+06  &     6.71e+05     &    -5.663  &         0.000        &    -5.32e+06    &    -2.28e+06     \\\\\n",
       "\\textbf{GNPDEFL} &     -12.7656  &       69.431     &    -0.184  &         0.858        &     -169.829    &      144.298     \\\\\n",
       "\\textbf{GNP}     &      -0.0380  &        0.026     &    -1.448  &         0.182        &       -0.097    &        0.021     \\\\\n",
       "\\textbf{UNEMP}   &      -2.1869  &        0.382     &    -5.719  &         0.000        &       -3.052    &       -1.322     \\\\\n",
       "\\textbf{ARMED}   &      -1.1518  &        0.165     &    -6.970  &         0.000        &       -1.526    &       -0.778     \\\\\n",
       "\\textbf{POP}     &      -0.0681  &        0.176     &    -0.386  &         0.709        &       -0.467    &        0.331     \\\\\n",
       "\\textbf{YEAR}    &    1993.9529  &      342.635     &     5.819  &         0.000        &     1218.860    &     2769.046     \\\\\n",
       "\\bottomrule\n",
       "\\end{tabular}\n",
       "\\begin{tabular}{lclc}\n",
       "\\textbf{Omnibus:}       &  0.117 & \\textbf{  Durbin-Watson:     } &    2.611  \\\\\n",
       "\\textbf{Prob(Omnibus):} &  0.943 & \\textbf{  Jarque-Bera (JB):  } &    0.340  \\\\\n",
       "\\textbf{Skew:}          & -0.036 & \\textbf{  Prob(JB):          } &    0.844  \\\\\n",
       "\\textbf{Kurtosis:}      &  2.290 & \\textbf{  Cond. No.          } & 5.61e+09  \\\\\n",
       "\\bottomrule\n",
       "\\end{tabular}\n",
       "%\\caption{GLS Regression Results}\n",
       "\\end{center}\n",
       "\n",
       "Notes: \\newline\n",
       " [1] Standard Errors assume that the covariance matrix of the errors is correctly specified. \\newline\n",
       " [2] The condition number is large, 5.61e+09. This might indicate that there are \\newline\n",
       " strong multicollinearity or other numerical problems."
      ],
      "text/plain": [
       "<class 'statsmodels.iolib.summary.Summary'>\n",
       "\"\"\"\n",
       "                            GLS Regression Results                            \n",
       "==============================================================================\n",
       "Dep. Variable:                 TOTEMP   R-squared:                       0.998\n",
       "Model:                            GLS   Adj. R-squared:                  0.997\n",
       "Method:                 Least Squares   F-statistic:                     724.0\n",
       "Date:                Wed, 08 May 2024   Prob (F-statistic):           1.48e-11\n",
       "Time:                        12:06:39   Log-Likelihood:                -107.50\n",
       "No. Observations:                  16   AIC:                             229.0\n",
       "Df Residuals:                       9   BIC:                             234.4\n",
       "Df Model:                           6                                         \n",
       "Covariance Type:            nonrobust                                         \n",
       "==============================================================================\n",
       "                 coef    std err          t      P>|t|      [0.025      0.975]\n",
       "------------------------------------------------------------------------------\n",
       "const      -3.798e+06   6.71e+05     -5.663      0.000   -5.32e+06   -2.28e+06\n",
       "GNPDEFL      -12.7656     69.431     -0.184      0.858    -169.829     144.298\n",
       "GNP           -0.0380      0.026     -1.448      0.182      -0.097       0.021\n",
       "UNEMP         -2.1869      0.382     -5.719      0.000      -3.052      -1.322\n",
       "ARMED         -1.1518      0.165     -6.970      0.000      -1.526      -0.778\n",
       "POP           -0.0681      0.176     -0.386      0.709      -0.467       0.331\n",
       "YEAR        1993.9529    342.635      5.819      0.000    1218.860    2769.046\n",
       "==============================================================================\n",
       "Omnibus:                        0.117   Durbin-Watson:                   2.611\n",
       "Prob(Omnibus):                  0.943   Jarque-Bera (JB):                0.340\n",
       "Skew:                          -0.036   Prob(JB):                        0.844\n",
       "Kurtosis:                       2.290   Cond. No.                     5.61e+09\n",
       "==============================================================================\n",
       "\n",
       "Notes:\n",
       "[1] Standard Errors assume that the covariance matrix of the errors is correctly specified.\n",
       "[2] The condition number is large, 5.61e+09. This might indicate that there are\n",
       "strong multicollinearity or other numerical problems.\n",
       "\"\"\""
      ]
     },
     "execution_count": 73,
     "metadata": {},
     "output_type": "execute_result"
    }
   ],
   "source": [
    "gls_results.summary()"
   ]
  },
  {
   "cell_type": "code",
   "execution_count": 76,
   "metadata": {},
   "outputs": [
    {
     "name": "stderr",
     "output_type": "stream",
     "text": [
      "/home/johnadi/.local/lib/python3.10/site-packages/scipy/stats/_axis_nan_policy.py:531: UserWarning: kurtosistest only valid for n>=20 ... continuing anyway, n=15\n",
      "  res = hypotest_fun_out(*samples, **kwds)\n"
     ]
    },
    {
     "data": {
      "text/html": [
       "<table class=\"simpletable\">\n",
       "<caption>GLSAR Regression Results</caption>\n",
       "<tr>\n",
       "  <th>Dep. Variable:</th>         <td>TOTEMP</td>      <th>  R-squared:         </th> <td>   0.996</td>\n",
       "</tr>\n",
       "<tr>\n",
       "  <th>Model:</th>                  <td>GLSAR</td>      <th>  Adj. R-squared:    </th> <td>   0.992</td>\n",
       "</tr>\n",
       "<tr>\n",
       "  <th>Method:</th>             <td>Least Squares</td>  <th>  F-statistic:       </th> <td>   295.2</td>\n",
       "</tr>\n",
       "<tr>\n",
       "  <th>Date:</th>             <td>Wed, 08 May 2024</td> <th>  Prob (F-statistic):</th> <td>6.09e-09</td>\n",
       "</tr>\n",
       "<tr>\n",
       "  <th>Time:</th>                 <td>12:08:46</td>     <th>  Log-Likelihood:    </th> <td> -102.04</td>\n",
       "</tr>\n",
       "<tr>\n",
       "  <th>No. Observations:</th>      <td>    15</td>      <th>  AIC:               </th> <td>   218.1</td>\n",
       "</tr>\n",
       "<tr>\n",
       "  <th>Df Residuals:</th>          <td>     8</td>      <th>  BIC:               </th> <td>   223.0</td>\n",
       "</tr>\n",
       "<tr>\n",
       "  <th>Df Model:</th>              <td>     6</td>      <th>                     </th>     <td> </td>   \n",
       "</tr>\n",
       "<tr>\n",
       "  <th>Covariance Type:</th>      <td>nonrobust</td>    <th>                     </th>     <td> </td>   \n",
       "</tr>\n",
       "</table>\n",
       "<table class=\"simpletable\">\n",
       "<tr>\n",
       "     <td></td>        <th>coef</th>     <th>std err</th>      <th>t</th>      <th>P>|t|</th>  <th>[0.025</th>    <th>0.975]</th>  \n",
       "</tr>\n",
       "<tr>\n",
       "  <th>const</th>   <td>-3.468e+06</td> <td> 8.72e+05</td> <td>   -3.979</td> <td> 0.004</td> <td>-5.48e+06</td> <td>-1.46e+06</td>\n",
       "</tr>\n",
       "<tr>\n",
       "  <th>GNPDEFL</th> <td>   34.5568</td> <td>   84.734</td> <td>    0.408</td> <td> 0.694</td> <td> -160.840</td> <td>  229.953</td>\n",
       "</tr>\n",
       "<tr>\n",
       "  <th>GNP</th>     <td>   -0.0343</td> <td>    0.033</td> <td>   -1.047</td> <td> 0.326</td> <td>   -0.110</td> <td>    0.041</td>\n",
       "</tr>\n",
       "<tr>\n",
       "  <th>UNEMP</th>   <td>   -1.9621</td> <td>    0.481</td> <td>   -4.083</td> <td> 0.004</td> <td>   -3.070</td> <td>   -0.854</td>\n",
       "</tr>\n",
       "<tr>\n",
       "  <th>ARMED</th>   <td>   -1.0020</td> <td>    0.211</td> <td>   -4.740</td> <td> 0.001</td> <td>   -1.489</td> <td>   -0.515</td>\n",
       "</tr>\n",
       "<tr>\n",
       "  <th>POP</th>     <td>   -0.0978</td> <td>    0.225</td> <td>   -0.435</td> <td> 0.675</td> <td>   -0.616</td> <td>    0.421</td>\n",
       "</tr>\n",
       "<tr>\n",
       "  <th>YEAR</th>    <td> 1823.1829</td> <td>  445.829</td> <td>    4.089</td> <td> 0.003</td> <td>  795.100</td> <td> 2851.266</td>\n",
       "</tr>\n",
       "</table>\n",
       "<table class=\"simpletable\">\n",
       "<tr>\n",
       "  <th>Omnibus:</th>       <td> 1.960</td> <th>  Durbin-Watson:     </th> <td>   2.554</td>\n",
       "</tr>\n",
       "<tr>\n",
       "  <th>Prob(Omnibus):</th> <td> 0.375</td> <th>  Jarque-Bera (JB):  </th> <td>   1.423</td>\n",
       "</tr>\n",
       "<tr>\n",
       "  <th>Skew:</th>          <td> 0.713</td> <th>  Prob(JB):          </th> <td>   0.491</td>\n",
       "</tr>\n",
       "<tr>\n",
       "  <th>Kurtosis:</th>      <td> 2.508</td> <th>  Cond. No.          </th> <td>4.80e+09</td>\n",
       "</tr>\n",
       "</table><br/><br/>Notes:<br/>[1] Standard Errors assume that the covariance matrix of the errors is correctly specified.<br/>[2] The condition number is large, 4.8e+09. This might indicate that there are<br/>strong multicollinearity or other numerical problems."
      ],
      "text/latex": [
       "\\begin{center}\n",
       "\\begin{tabular}{lclc}\n",
       "\\toprule\n",
       "\\textbf{Dep. Variable:}    &      TOTEMP      & \\textbf{  R-squared:         } &     0.996   \\\\\n",
       "\\textbf{Model:}            &      GLSAR       & \\textbf{  Adj. R-squared:    } &     0.992   \\\\\n",
       "\\textbf{Method:}           &  Least Squares   & \\textbf{  F-statistic:       } &     295.2   \\\\\n",
       "\\textbf{Date:}             & Wed, 08 May 2024 & \\textbf{  Prob (F-statistic):} &  6.09e-09   \\\\\n",
       "\\textbf{Time:}             &     12:08:46     & \\textbf{  Log-Likelihood:    } &   -102.04   \\\\\n",
       "\\textbf{No. Observations:} &          15      & \\textbf{  AIC:               } &     218.1   \\\\\n",
       "\\textbf{Df Residuals:}     &           8      & \\textbf{  BIC:               } &     223.0   \\\\\n",
       "\\textbf{Df Model:}         &           6      & \\textbf{                     } &             \\\\\n",
       "\\textbf{Covariance Type:}  &    nonrobust     & \\textbf{                     } &             \\\\\n",
       "\\bottomrule\n",
       "\\end{tabular}\n",
       "\\begin{tabular}{lcccccc}\n",
       "                 & \\textbf{coef} & \\textbf{std err} & \\textbf{t} & \\textbf{P$> |$t$|$} & \\textbf{[0.025} & \\textbf{0.975]}  \\\\\n",
       "\\midrule\n",
       "\\textbf{const}   &   -3.468e+06  &     8.72e+05     &    -3.979  &         0.004        &    -5.48e+06    &    -1.46e+06     \\\\\n",
       "\\textbf{GNPDEFL} &      34.5568  &       84.734     &     0.408  &         0.694        &     -160.840    &      229.953     \\\\\n",
       "\\textbf{GNP}     &      -0.0343  &        0.033     &    -1.047  &         0.326        &       -0.110    &        0.041     \\\\\n",
       "\\textbf{UNEMP}   &      -1.9621  &        0.481     &    -4.083  &         0.004        &       -3.070    &       -0.854     \\\\\n",
       "\\textbf{ARMED}   &      -1.0020  &        0.211     &    -4.740  &         0.001        &       -1.489    &       -0.515     \\\\\n",
       "\\textbf{POP}     &      -0.0978  &        0.225     &    -0.435  &         0.675        &       -0.616    &        0.421     \\\\\n",
       "\\textbf{YEAR}    &    1823.1829  &      445.829     &     4.089  &         0.003        &      795.100    &     2851.266     \\\\\n",
       "\\bottomrule\n",
       "\\end{tabular}\n",
       "\\begin{tabular}{lclc}\n",
       "\\textbf{Omnibus:}       &  1.960 & \\textbf{  Durbin-Watson:     } &    2.554  \\\\\n",
       "\\textbf{Prob(Omnibus):} &  0.375 & \\textbf{  Jarque-Bera (JB):  } &    1.423  \\\\\n",
       "\\textbf{Skew:}          &  0.713 & \\textbf{  Prob(JB):          } &    0.491  \\\\\n",
       "\\textbf{Kurtosis:}      &  2.508 & \\textbf{  Cond. No.          } & 4.80e+09  \\\\\n",
       "\\bottomrule\n",
       "\\end{tabular}\n",
       "%\\caption{GLSAR Regression Results}\n",
       "\\end{center}\n",
       "\n",
       "Notes: \\newline\n",
       " [1] Standard Errors assume that the covariance matrix of the errors is correctly specified. \\newline\n",
       " [2] The condition number is large, 4.8e+09. This might indicate that there are \\newline\n",
       " strong multicollinearity or other numerical problems."
      ],
      "text/plain": [
       "<class 'statsmodels.iolib.summary.Summary'>\n",
       "\"\"\"\n",
       "                           GLSAR Regression Results                           \n",
       "==============================================================================\n",
       "Dep. Variable:                 TOTEMP   R-squared:                       0.996\n",
       "Model:                          GLSAR   Adj. R-squared:                  0.992\n",
       "Method:                 Least Squares   F-statistic:                     295.2\n",
       "Date:                Wed, 08 May 2024   Prob (F-statistic):           6.09e-09\n",
       "Time:                        12:08:46   Log-Likelihood:                -102.04\n",
       "No. Observations:                  15   AIC:                             218.1\n",
       "Df Residuals:                       8   BIC:                             223.0\n",
       "Df Model:                           6                                         \n",
       "Covariance Type:            nonrobust                                         \n",
       "==============================================================================\n",
       "                 coef    std err          t      P>|t|      [0.025      0.975]\n",
       "------------------------------------------------------------------------------\n",
       "const      -3.468e+06   8.72e+05     -3.979      0.004   -5.48e+06   -1.46e+06\n",
       "GNPDEFL       34.5568     84.734      0.408      0.694    -160.840     229.953\n",
       "GNP           -0.0343      0.033     -1.047      0.326      -0.110       0.041\n",
       "UNEMP         -1.9621      0.481     -4.083      0.004      -3.070      -0.854\n",
       "ARMED         -1.0020      0.211     -4.740      0.001      -1.489      -0.515\n",
       "POP           -0.0978      0.225     -0.435      0.675      -0.616       0.421\n",
       "YEAR        1823.1829    445.829      4.089      0.003     795.100    2851.266\n",
       "==============================================================================\n",
       "Omnibus:                        1.960   Durbin-Watson:                   2.554\n",
       "Prob(Omnibus):                  0.375   Jarque-Bera (JB):                1.423\n",
       "Skew:                           0.713   Prob(JB):                        0.491\n",
       "Kurtosis:                       2.508   Cond. No.                     4.80e+09\n",
       "==============================================================================\n",
       "\n",
       "Notes:\n",
       "[1] Standard Errors assume that the covariance matrix of the errors is correctly specified.\n",
       "[2] The condition number is large, 4.8e+09. This might indicate that there are\n",
       "strong multicollinearity or other numerical problems.\n",
       "\"\"\""
      ]
     },
     "execution_count": 76,
     "metadata": {},
     "output_type": "execute_result"
    }
   ],
   "source": [
    "glsar_model = sm.GLSAR(data.endog, data.exog, 1)\n",
    "glsar_results = glsar_model.iterative_fit(1)\n",
    "glsar_results.summary()"
   ]
  },
  {
   "cell_type": "code",
   "execution_count": 78,
   "metadata": {},
   "outputs": [
    {
     "name": "stdout",
     "output_type": "stream",
     "text": [
      "const     -3.797855e+06\n",
      "GNPDEFL   -1.276565e+01\n",
      "GNP       -3.800132e-02\n",
      "UNEMP     -2.186949e+00\n",
      "ARMED     -1.151776e+00\n",
      "POP       -6.805356e-02\n",
      "YEAR       1.993953e+03\n",
      "dtype: float64\n",
      "const     -3.467961e+06\n",
      "GNPDEFL    3.455678e+01\n",
      "GNP       -3.434101e-02\n",
      "UNEMP     -1.962144e+00\n",
      "ARMED     -1.001973e+00\n",
      "POP       -9.780460e-02\n",
      "YEAR       1.823183e+03\n",
      "dtype: float64\n",
      "==============================\n",
      "const      670688.699310\n",
      "GNPDEFL        69.430807\n",
      "GNP             0.026248\n",
      "UNEMP           0.382393\n",
      "ARMED           0.165253\n",
      "POP             0.176428\n",
      "YEAR          342.634628\n",
      "dtype: float64\n",
      "const      871584.051696\n",
      "GNPDEFL        84.733715\n",
      "GNP             0.032803\n",
      "UNEMP           0.480545\n",
      "ARMED           0.211384\n",
      "POP             0.224774\n",
      "YEAR          445.828748\n",
      "dtype: float64\n"
     ]
    }
   ],
   "source": [
    "print(gls_results.params)\n",
    "print(glsar_results.params)\n",
    "print(\"==============================\")\n",
    "print(gls_results.bse)\n",
    "print(glsar_results.bse)"
   ]
  },
  {
   "cell_type": "code",
   "execution_count": null,
   "metadata": {},
   "outputs": [],
   "source": []
  }
 ],
 "metadata": {
  "kernelspec": {
   "display_name": "dsc",
   "language": "python",
   "name": "python3"
  },
  "language_info": {
   "codemirror_mode": {
    "name": "ipython",
    "version": 3
   },
   "file_extension": ".py",
   "mimetype": "text/x-python",
   "name": "python",
   "nbconvert_exporter": "python",
   "pygments_lexer": "ipython3",
   "version": "3.10.14"
  }
 },
 "nbformat": 4,
 "nbformat_minor": 2
}
