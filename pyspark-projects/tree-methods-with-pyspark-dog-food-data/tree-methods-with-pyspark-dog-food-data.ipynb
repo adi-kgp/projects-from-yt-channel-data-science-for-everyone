{
 "cells": [
  {
   "cell_type": "markdown",
   "id": "dadb3c1a-9ead-4736-8ea8-b08c061c3f34",
   "metadata": {},
   "source": [
    "### Tree Methods with PySpark: Dog Food"
   ]
  },
  {
   "cell_type": "code",
   "execution_count": 1,
   "id": "589b069c-00fd-4b2d-bfab-df9138a16c06",
   "metadata": {},
   "outputs": [
    {
     "name": "stdout",
     "output_type": "stream",
     "text": [
      "The history saving thread hit an unexpected error (OperationalError('attempt to write a readonly database')).History will not be written to the database.\n"
     ]
    }
   ],
   "source": [
    "from pyspark.sql import SparkSession"
   ]
  },
  {
   "cell_type": "code",
   "execution_count": 2,
   "id": "888e985c-e63f-4920-9c5f-129576230c76",
   "metadata": {},
   "outputs": [
    {
     "name": "stderr",
     "output_type": "stream",
     "text": [
      "24/05/15 07:35:38 WARN Utils: Your hostname, aditya resolves to a loopback address: 127.0.1.1; using 192.168.29.243 instead (on interface wlo1)\n",
      "24/05/15 07:35:38 WARN Utils: Set SPARK_LOCAL_IP if you need to bind to another address\n",
      "Setting default log level to \"WARN\".\n",
      "To adjust logging level use sc.setLogLevel(newLevel). For SparkR, use setLogLevel(newLevel).\n",
      "24/05/15 07:35:40 WARN NativeCodeLoader: Unable to load native-hadoop library for your platform... using builtin-java classes where applicable\n"
     ]
    }
   ],
   "source": [
    "spark = SparkSession.builder.appName(\"dog_food\").getOrCreate()"
   ]
  },
  {
   "cell_type": "code",
   "execution_count": 3,
   "id": "09edf0a1-2544-45ed-a05a-6fe39244cb63",
   "metadata": {},
   "outputs": [],
   "source": [
    "df = spark.read.csv(\"dog_food.csv\", inferSchema=True, header=True)"
   ]
  },
  {
   "cell_type": "code",
   "execution_count": 4,
   "id": "b6dcd4a7-35d8-4a5b-8610-4ef45aeab665",
   "metadata": {},
   "outputs": [
    {
     "name": "stdout",
     "output_type": "stream",
     "text": [
      "root\n",
      " |-- A: integer (nullable = true)\n",
      " |-- B: integer (nullable = true)\n",
      " |-- C: double (nullable = true)\n",
      " |-- D: integer (nullable = true)\n",
      " |-- Spoiled: double (nullable = true)\n",
      "\n"
     ]
    }
   ],
   "source": [
    "df.printSchema()"
   ]
  },
  {
   "cell_type": "code",
   "execution_count": 5,
   "id": "4840b3f3-32bf-4b41-8c34-ec4bdb273609",
   "metadata": {},
   "outputs": [],
   "source": [
    "from pyspark.ml.feature import VectorAssembler"
   ]
  },
  {
   "cell_type": "code",
   "execution_count": 7,
   "id": "d654f374-bde2-4265-9780-206123d753ef",
   "metadata": {},
   "outputs": [],
   "source": [
    "assembler = VectorAssembler(inputCols=list(\"ABCD\"), outputCol=\"features\")"
   ]
  },
  {
   "cell_type": "code",
   "execution_count": 8,
   "id": "8eab8a62-1538-46ef-85d2-247e7e19b31a",
   "metadata": {},
   "outputs": [],
   "source": [
    "output = assembler.transform(df)"
   ]
  },
  {
   "cell_type": "code",
   "execution_count": 9,
   "id": "34466c9d-0591-4e99-818e-ef18c623c12d",
   "metadata": {},
   "outputs": [],
   "source": [
    "from pyspark.ml.classification import DecisionTreeClassifier, RandomForestClassifier"
   ]
  },
  {
   "cell_type": "code",
   "execution_count": 10,
   "id": "f4021d46-652e-47ae-9085-83381b0b1a01",
   "metadata": {},
   "outputs": [],
   "source": [
    "dtc = DecisionTreeClassifier(labelCol=\"Spoiled\", featuresCol=\"features\")"
   ]
  },
  {
   "cell_type": "code",
   "execution_count": 11,
   "id": "937acbb5-e421-4926-8313-4240977c3285",
   "metadata": {},
   "outputs": [],
   "source": [
    "data_final = output.select(\"features\", \"Spoiled\")"
   ]
  },
  {
   "cell_type": "code",
   "execution_count": 12,
   "id": "561a572c-a938-4aad-99b4-d38312ee8129",
   "metadata": {},
   "outputs": [],
   "source": [
    "dtc_model = dtc.fit(data_final)"
   ]
  },
  {
   "cell_type": "code",
   "execution_count": 13,
   "id": "b903289d-8b4e-4cc3-8203-782b2128839d",
   "metadata": {},
   "outputs": [
    {
     "data": {
      "text/plain": [
       "SparseVector(4, {1: 0.0019, 2: 0.9832, 3: 0.0149})"
      ]
     },
     "execution_count": 13,
     "metadata": {},
     "output_type": "execute_result"
    }
   ],
   "source": [
    "dtc_model.featureImportances"
   ]
  },
  {
   "cell_type": "code",
   "execution_count": 14,
   "id": "cbeafd3b-716a-4ccc-b7d1-7691a54e0e74",
   "metadata": {},
   "outputs": [],
   "source": [
    "rfc = RandomForestClassifier(labelCol=\"Spoiled\", featuresCol=\"features\")"
   ]
  },
  {
   "cell_type": "code",
   "execution_count": 15,
   "id": "cf662da1-3e2d-49ba-81d5-661275f63290",
   "metadata": {},
   "outputs": [],
   "source": [
    "rfc_model = rfc.fit(data_final)"
   ]
  },
  {
   "cell_type": "code",
   "execution_count": 16,
   "id": "02de0e27-a820-4a8a-958f-f2554510cc17",
   "metadata": {},
   "outputs": [
    {
     "data": {
      "text/plain": [
       "SparseVector(4, {0: 0.0301, 1: 0.0308, 2: 0.9193, 3: 0.0198})"
      ]
     },
     "execution_count": 16,
     "metadata": {},
     "output_type": "execute_result"
    }
   ],
   "source": [
    "rfc_model.featureImportances"
   ]
  },
  {
   "cell_type": "code",
   "execution_count": null,
   "id": "ce39c435-e143-45d5-ba36-a1f3b2474819",
   "metadata": {},
   "outputs": [],
   "source": []
  }
 ],
 "metadata": {
  "kernelspec": {
   "display_name": "Python 3 (ipykernel)",
   "language": "python",
   "name": "python3"
  },
  "language_info": {
   "codemirror_mode": {
    "name": "ipython",
    "version": 3
   },
   "file_extension": ".py",
   "mimetype": "text/x-python",
   "name": "python",
   "nbconvert_exporter": "python",
   "pygments_lexer": "ipython3",
   "version": "3.10.14"
  }
 },
 "nbformat": 4,
 "nbformat_minor": 5
}
