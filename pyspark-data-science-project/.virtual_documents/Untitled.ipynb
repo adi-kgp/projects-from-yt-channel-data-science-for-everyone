


from pyspark.sql import SparkSession


spark = SparkSession.builder.appName("diabetes").getOrCreate()


df = spark.read.csv("diabetes.csv", header=True, inferSchema=True)


df.show(2)


df.printSchema()


df.describe().toPandas()


df.groupby('Outcome').count().show()


import matplotlib.pyplot as plt
import seaborn as sns






