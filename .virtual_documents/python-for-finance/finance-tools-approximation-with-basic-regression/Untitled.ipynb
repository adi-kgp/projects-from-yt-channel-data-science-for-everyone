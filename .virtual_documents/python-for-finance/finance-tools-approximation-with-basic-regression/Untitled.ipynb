


import numpy as np
import matplotlib.pyplot as plt
from mpl_toolkits.mplot3d import Axes3D


def fm(p):
    x, y = p
    return np.sin(x) + 0.25 * x + np.sqrt(y) + 0.05 * y**2 


# x, y, z
x = np.linspace(0,10, 20)
y = np.linspace(0,10,20)
X, Y = np.meshgrid(x, y) # 2D grid out of 1D arrays


X


Z = fm((X,Y))
x = X.flatten() # 2D to 1D
y = Y.flatten()


fig = plt.figure(figsize=(10,6))
ax = fig.add_subplot(projection="3d")
surf = ax.plot_surface(X, Y, Z, rstride=2, cstride=2, cmap="coolwarm", linewidth=0.5, antialiased=True)


mat = np.zeros((len(x), 6+1))
mat[:,6] = np.sqrt(y)
mat[:,5] = np.sin(x)
mat[:, 4] = y ** 2
mat[:, 3] = x ** 2
mat[:, 2] = y
mat[:, 1] = x
mat[:, 0] = 1


reg = np.linalg.lstsq(mat, fm((x, y)), rcond=None)[0]


RZ = np.dot(mat, reg).reshape((20,20)) # Transforms reg to the grid structure












