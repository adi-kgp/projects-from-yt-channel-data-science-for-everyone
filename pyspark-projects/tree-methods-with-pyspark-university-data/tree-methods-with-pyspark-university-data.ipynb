{
 "cells": [
  {
   "cell_type": "markdown",
   "id": "d8800a87-99e4-4164-9f4c-cffe6a571dfe",
   "metadata": {},
   "source": [
    "### Tree Methods with PySpark\n",
    "\n",
    "1. Single Decision Tree\n",
    "2. Random Forest\n",
    "3. Gradient Boosted Tree Classifier "
   ]
  },
  {
   "cell_type": "code",
   "execution_count": 1,
   "id": "2f841046-4d0d-430f-83be-7b9792b18daa",
   "metadata": {},
   "outputs": [
    {
     "name": "stderr",
     "output_type": "stream",
     "text": [
      "24/05/14 14:27:54 WARN Utils: Your hostname, aditya resolves to a loopback address: 127.0.1.1; using 192.168.29.243 instead (on interface wlo1)\n",
      "24/05/14 14:27:55 WARN Utils: Set SPARK_LOCAL_IP if you need to bind to another address\n",
      "Setting default log level to \"WARN\".\n",
      "To adjust logging level use sc.setLogLevel(newLevel). For SparkR, use setLogLevel(newLevel).\n",
      "24/05/14 14:27:56 WARN NativeCodeLoader: Unable to load native-hadoop library for your platform... using builtin-java classes where applicable\n",
      "24/05/14 14:27:57 WARN Utils: Service 'SparkUI' could not bind on port 4040. Attempting port 4041.\n",
      "24/05/14 14:27:57 WARN Utils: Service 'SparkUI' could not bind on port 4041. Attempting port 4042.\n",
      "24/05/14 14:27:57 WARN Utils: Service 'SparkUI' could not bind on port 4042. Attempting port 4043.\n"
     ]
    }
   ],
   "source": [
    "from pyspark.sql import SparkSession\n",
    "spark = SparkSession.builder.appName(\"trees\").getOrCreate()"
   ]
  },
  {
   "cell_type": "code",
   "execution_count": 2,
   "id": "074e1275-3d7e-4b18-8131-13d66ba6bc9e",
   "metadata": {},
   "outputs": [],
   "source": [
    "df = spark.read.csv(\"college.csv\", inferSchema=True, header=True)"
   ]
  },
  {
   "cell_type": "code",
   "execution_count": 3,
   "id": "0b41e4e3-e8cd-4bef-9436-30263249741a",
   "metadata": {},
   "outputs": [
    {
     "name": "stdout",
     "output_type": "stream",
     "text": [
      "root\n",
      " |-- School: string (nullable = true)\n",
      " |-- Private: string (nullable = true)\n",
      " |-- Apps: integer (nullable = true)\n",
      " |-- Accept: integer (nullable = true)\n",
      " |-- Enroll: integer (nullable = true)\n",
      " |-- Top10perc: integer (nullable = true)\n",
      " |-- Top25perc: integer (nullable = true)\n",
      " |-- F_Undergrad: integer (nullable = true)\n",
      " |-- P_Undergrad: integer (nullable = true)\n",
      " |-- Outstate: integer (nullable = true)\n",
      " |-- Room_Board: integer (nullable = true)\n",
      " |-- Books: integer (nullable = true)\n",
      " |-- Personal: integer (nullable = true)\n",
      " |-- PhD: integer (nullable = true)\n",
      " |-- Terminal: integer (nullable = true)\n",
      " |-- S_F_Ratio: double (nullable = true)\n",
      " |-- perc_alumni: integer (nullable = true)\n",
      " |-- Expend: integer (nullable = true)\n",
      " |-- Grad_Rate: integer (nullable = true)\n",
      "\n"
     ]
    }
   ],
   "source": [
    "df.printSchema()"
   ]
  },
  {
   "cell_type": "code",
   "execution_count": 4,
   "id": "ddc665db-5a7a-4b46-8d15-3f319e91ebba",
   "metadata": {},
   "outputs": [
    {
     "data": {
      "text/plain": [
       "['School',\n",
       " 'Private',\n",
       " 'Apps',\n",
       " 'Accept',\n",
       " 'Enroll',\n",
       " 'Top10perc',\n",
       " 'Top25perc',\n",
       " 'F_Undergrad',\n",
       " 'P_Undergrad',\n",
       " 'Outstate',\n",
       " 'Room_Board',\n",
       " 'Books',\n",
       " 'Personal',\n",
       " 'PhD',\n",
       " 'Terminal',\n",
       " 'S_F_Ratio',\n",
       " 'perc_alumni',\n",
       " 'Expend',\n",
       " 'Grad_Rate']"
      ]
     },
     "execution_count": 4,
     "metadata": {},
     "output_type": "execute_result"
    }
   ],
   "source": [
    "df.columns"
   ]
  },
  {
   "cell_type": "code",
   "execution_count": 6,
   "id": "bee4a380-ad8f-4ee5-bbc3-77367f43d5bb",
   "metadata": {},
   "outputs": [
    {
     "name": "stdout",
     "output_type": "stream",
     "text": [
      "+--------------------+-------+----+------+------+---------+---------+-----------+-----------+--------+----------+-----+--------+---+--------+---------+-----------+------+---------+\n",
      "|              School|Private|Apps|Accept|Enroll|Top10perc|Top25perc|F_Undergrad|P_Undergrad|Outstate|Room_Board|Books|Personal|PhD|Terminal|S_F_Ratio|perc_alumni|Expend|Grad_Rate|\n",
      "+--------------------+-------+----+------+------+---------+---------+-----------+-----------+--------+----------+-----+--------+---+--------+---------+-----------+------+---------+\n",
      "|Abilene Christian...|    Yes|1660|  1232|   721|       23|       52|       2885|        537|    7440|      3300|  450|    2200| 70|      78|     18.1|         12|  7041|       60|\n",
      "|  Adelphi University|    Yes|2186|  1924|   512|       16|       29|       2683|       1227|   12280|      6450|  750|    1500| 29|      30|     12.2|         16| 10527|       56|\n",
      "+--------------------+-------+----+------+------+---------+---------+-----------+-----------+--------+----------+-----+--------+---+--------+---------+-----------+------+---------+\n",
      "only showing top 2 rows\n",
      "\n"
     ]
    }
   ],
   "source": [
    "df.show(2)"
   ]
  },
  {
   "cell_type": "markdown",
   "id": "436c3764-455d-41b3-8f85-50fc77830c4f",
   "metadata": {},
   "source": [
    "#### Formatting for Spark"
   ]
  },
  {
   "cell_type": "code",
   "execution_count": 7,
   "id": "678285a1-1257-4b6a-94e2-b93770bfba33",
   "metadata": {},
   "outputs": [],
   "source": [
    "# \"label\", \"features\"\n",
    "\n",
    "from pyspark.ml.linalg import Vectors\n",
    "from pyspark.ml.feature import VectorAssembler"
   ]
  },
  {
   "cell_type": "code",
   "execution_count": 8,
   "id": "71f77ff8-5e46-45d5-979b-3bbfecfc6957",
   "metadata": {},
   "outputs": [
    {
     "data": {
      "text/plain": [
       "['School',\n",
       " 'Private',\n",
       " 'Apps',\n",
       " 'Accept',\n",
       " 'Enroll',\n",
       " 'Top10perc',\n",
       " 'Top25perc',\n",
       " 'F_Undergrad',\n",
       " 'P_Undergrad',\n",
       " 'Outstate',\n",
       " 'Room_Board',\n",
       " 'Books',\n",
       " 'Personal',\n",
       " 'PhD',\n",
       " 'Terminal',\n",
       " 'S_F_Ratio',\n",
       " 'perc_alumni',\n",
       " 'Expend',\n",
       " 'Grad_Rate']"
      ]
     },
     "execution_count": 8,
     "metadata": {},
     "output_type": "execute_result"
    }
   ],
   "source": [
    "df.columns"
   ]
  },
  {
   "cell_type": "code",
   "execution_count": 11,
   "id": "ae39813c-e61e-471d-8657-a3c4bde1a392",
   "metadata": {},
   "outputs": [],
   "source": [
    "assembler = VectorAssembler(\n",
    "    inputCols = [\n",
    "     'Apps',\n",
    "     'Accept',\n",
    "     'Enroll',\n",
    "     'Top10perc',\n",
    "     'Top25perc',\n",
    "     'F_Undergrad',\n",
    "     'P_Undergrad',\n",
    "     'Outstate',\n",
    "     'Room_Board',\n",
    "     'Books',\n",
    "     'Personal',\n",
    "     'PhD',\n",
    "     'Terminal',\n",
    "     'S_F_Ratio',\n",
    "     'perc_alumni',\n",
    "     'Expend',\n",
    "     'Grad_Rate'\n",
    "    ],\n",
    "    outputCol=\"features\"\n",
    ")"
   ]
  },
  {
   "cell_type": "code",
   "execution_count": 12,
   "id": "bd6d52d3-19d1-4a1b-b0cc-0b52b5cd5eac",
   "metadata": {},
   "outputs": [],
   "source": [
    "output = assembler.transform(df)"
   ]
  },
  {
   "cell_type": "code",
   "execution_count": 15,
   "id": "42138655-75c9-440f-9def-bbbbbd1549cc",
   "metadata": {},
   "outputs": [],
   "source": [
    "# String variables (private)\n",
    "from pyspark.ml.feature import StringIndexer\n",
    "\n",
    "indexer = StringIndexer(inputCol=\"Private\", outputCol=\"PrivateIndexer\")"
   ]
  },
  {
   "cell_type": "code",
   "execution_count": 16,
   "id": "7d95d19d-e3ad-4ac6-bdbf-c0bce15ed76c",
   "metadata": {},
   "outputs": [
    {
     "name": "stderr",
     "output_type": "stream",
     "text": [
      "                                                                                \r"
     ]
    }
   ],
   "source": [
    "output_fixed = indexer.fit(output).transform(output)"
   ]
  },
  {
   "cell_type": "code",
   "execution_count": 17,
   "id": "e5cd6db4-72f0-4d18-abf9-ee0501ff5597",
   "metadata": {},
   "outputs": [],
   "source": [
    "df_final = output_fixed.select(\"features\", \"PrivateIndexer\")"
   ]
  },
  {
   "cell_type": "code",
   "execution_count": 18,
   "id": "5edc8418-58c6-44aa-bd83-9469e4437676",
   "metadata": {},
   "outputs": [],
   "source": [
    "train, test = df_final.randomSplit([0.7, 0.3], seed=42)"
   ]
  },
  {
   "cell_type": "markdown",
   "id": "883052dd-e1ab-408a-935b-236be3c680dc",
   "metadata": {},
   "source": [
    "#### Tree Classifiers"
   ]
  },
  {
   "cell_type": "code",
   "execution_count": 20,
   "id": "c4769675-d3ae-4b8b-bb06-04c2b6634815",
   "metadata": {},
   "outputs": [],
   "source": [
    "from pyspark.ml.classification import DecisionTreeClassifier, RandomForestClassifier, GBTClassifier\n",
    "from pyspark.ml import Pipeline"
   ]
  },
  {
   "cell_type": "markdown",
   "id": "8f14f7fa-6917-4f12-8627-af0a24547c26",
   "metadata": {},
   "source": [
    "#### Create Models"
   ]
  },
  {
   "cell_type": "code",
   "execution_count": 21,
   "id": "236fca25-e91d-4751-b55e-823e1021cbb4",
   "metadata": {},
   "outputs": [],
   "source": [
    "dtc = DecisionTreeClassifier(labelCol=\"PrivateIndexer\", featuresCol=\"features\")\n",
    "rfc = RandomForestClassifier(labelCol=\"PrivateIndexer\", featuresCol=\"features\")\n",
    "gbt = GBTClassifier(labelCol=\"PrivateIndexer\", featuresCol=\"features\")"
   ]
  },
  {
   "cell_type": "code",
   "execution_count": 22,
   "id": "0aabe4da-4563-4691-81e3-ecc4f16d29c0",
   "metadata": {},
   "outputs": [
    {
     "name": "stderr",
     "output_type": "stream",
     "text": [
      "                                                                                \r"
     ]
    }
   ],
   "source": [
    "dtc_model = dtc.fit(train)\n",
    "rfc_model = rfc.fit(train)\n",
    "gbt_model = gbt.fit(train)"
   ]
  },
  {
   "cell_type": "markdown",
   "id": "85f300c0-f895-49d0-a993-ee5dedd0c165",
   "metadata": {},
   "source": [
    "#### Prediction"
   ]
  },
  {
   "cell_type": "code",
   "execution_count": 23,
   "id": "93b2fb4f-fcbe-4fbd-9e6d-c49dba8f8f90",
   "metadata": {},
   "outputs": [],
   "source": [
    "dtc_pred = dtc_model.transform(test)\n",
    "rfc_pred = rfc_model.transform(test)\n",
    "gbt_pred = gbt_model.transform(test)"
   ]
  },
  {
   "cell_type": "markdown",
   "id": "3e563aa2-fcb0-48a7-aa30-fc1be491cd57",
   "metadata": {},
   "source": [
    "#### Evaluation"
   ]
  },
  {
   "cell_type": "code",
   "execution_count": 26,
   "id": "a128c386-6275-4623-92b3-74f6f48c81c7",
   "metadata": {},
   "outputs": [],
   "source": [
    "from pyspark.ml.evaluation import MulticlassClassificationEvaluator\n",
    "\n",
    "evaluator = MulticlassClassificationEvaluator(labelCol=\"PrivateIndexer\", predictionCol=\"prediction\", metricName=\"accuracy\")"
   ]
  },
  {
   "cell_type": "code",
   "execution_count": 27,
   "id": "fc967811-fd9d-4ed6-bfb4-f9ffa047a2c0",
   "metadata": {},
   "outputs": [],
   "source": [
    "dtc_acc = evaluator.evaluate(dtc_pred)\n",
    "rfc_acc = evaluator.evaluate(rfc_pred)\n",
    "gbt_acc = evaluator.evaluate(gbt_pred)"
   ]
  },
  {
   "cell_type": "code",
   "execution_count": 28,
   "id": "7066693a-03cd-4f78-b5d9-447b1fb7d6db",
   "metadata": {},
   "outputs": [
    {
     "name": "stdout",
     "output_type": "stream",
     "text": [
      "------------------------------------------------------------------------------------------\n",
      "DT Acc: 0.925\n",
      "------------------------------------------------------------------------------------------\n",
      "RFC Acc: 0.93\n",
      "------------------------------------------------------------------------------------------\n",
      "GBT Acc: 0.94\n"
     ]
    }
   ],
   "source": [
    "print(\"-\"*90)\n",
    "print(f\"DT Acc: {dtc_acc}\")\n",
    "print(\"-\"*90)\n",
    "print(f\"RFC Acc: {rfc_acc}\")\n",
    "print(\"-\"*90)\n",
    "print(f\"GBT Acc: {gbt_acc}\")"
   ]
  },
  {
   "cell_type": "code",
   "execution_count": null,
   "id": "eb17a40b-36c4-4e04-91cd-b2e8154c1d77",
   "metadata": {},
   "outputs": [],
   "source": []
  },
  {
   "cell_type": "code",
   "execution_count": null,
   "id": "cf03e82f-d50d-4cc2-987b-65047ddae4b8",
   "metadata": {},
   "outputs": [],
   "source": []
  },
  {
   "cell_type": "code",
   "execution_count": null,
   "id": "24e9e43e-e420-4ce6-9ccf-b225bd467db2",
   "metadata": {},
   "outputs": [],
   "source": []
  },
  {
   "cell_type": "code",
   "execution_count": null,
   "id": "799a6d2a-06b7-46f6-9e08-72c98629425b",
   "metadata": {},
   "outputs": [],
   "source": []
  },
  {
   "cell_type": "code",
   "execution_count": null,
   "id": "6c9e9a4f-d455-4982-9efb-e575f5936ae0",
   "metadata": {},
   "outputs": [],
   "source": []
  },
  {
   "cell_type": "code",
   "execution_count": null,
   "id": "80f7ab8d-caab-4347-addd-cf309497e3ae",
   "metadata": {},
   "outputs": [],
   "source": []
  },
  {
   "cell_type": "code",
   "execution_count": null,
   "id": "715bb377-9c67-477f-8245-e00f63ac4207",
   "metadata": {},
   "outputs": [],
   "source": []
  }
 ],
 "metadata": {
  "kernelspec": {
   "display_name": "Python 3 (ipykernel)",
   "language": "python",
   "name": "python3"
  },
  "language_info": {
   "codemirror_mode": {
    "name": "ipython",
    "version": 3
   },
   "file_extension": ".py",
   "mimetype": "text/x-python",
   "name": "python",
   "nbconvert_exporter": "python",
   "pygments_lexer": "ipython3",
   "version": "3.10.14"
  }
 },
 "nbformat": 4,
 "nbformat_minor": 5
}
