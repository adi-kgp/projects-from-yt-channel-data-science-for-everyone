


from pyspark.sql import SparkSession, functions
import warnings
warnings.filterwarnings('ignore')


spark = SparkSession.builder.appName("stock_price_analysis").getOrCreate()















