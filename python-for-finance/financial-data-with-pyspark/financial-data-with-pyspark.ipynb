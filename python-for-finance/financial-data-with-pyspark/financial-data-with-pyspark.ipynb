{
 "cells": [
  {
   "cell_type": "markdown",
   "id": "7cd7910d-b6af-4d84-9f3f-9930a72fe9a3",
   "metadata": {},
   "source": [
    "### Stock Prices with PySpark"
   ]
  },
  {
   "cell_type": "code",
   "execution_count": 3,
   "id": "7dd0ca12-620a-4853-8edb-bc43b69410c9",
   "metadata": {},
   "outputs": [],
   "source": [
    "from pyspark.sql import SparkSession, functions\n",
    "import warnings \n",
    "warnings.filterwarnings('ignore')"
   ]
  },
  {
   "cell_type": "code",
   "execution_count": 4,
   "id": "6bf53f54-ac08-4385-9e3f-05d5d5c36db1",
   "metadata": {},
   "outputs": [],
   "source": [
    "spark = SparkSession.builder.appName(\"stock_price_analysis\").getOrCreate()"
   ]
  },
  {
   "cell_type": "code",
   "execution_count": null,
   "id": "7cf4bc00-9821-4eb8-bc6b-37b621eeddbb",
   "metadata": {},
   "outputs": [],
   "source": [
    "df = spark.read.csv()"
   ]
  },
  {
   "cell_type": "code",
   "execution_count": null,
   "id": "77ebffc6-0e0e-4e86-9a73-2d299993dcbf",
   "metadata": {},
   "outputs": [],
   "source": []
  },
  {
   "cell_type": "code",
   "execution_count": null,
   "id": "2310e8b2-b76a-464a-90f0-d738d2b62cf5",
   "metadata": {},
   "outputs": [],
   "source": []
  }
 ],
 "metadata": {
  "kernelspec": {
   "display_name": "Python 3 (ipykernel)",
   "language": "python",
   "name": "python3"
  },
  "language_info": {
   "codemirror_mode": {
    "name": "ipython",
    "version": 3
   },
   "file_extension": ".py",
   "mimetype": "text/x-python",
   "name": "python",
   "nbconvert_exporter": "python",
   "pygments_lexer": "ipython3",
   "version": "3.10.14"
  }
 },
 "nbformat": 4,
 "nbformat_minor": 5
}
