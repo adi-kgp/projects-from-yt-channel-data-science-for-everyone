


from pyspark.sql import SparkSession
import warnings
warnings.filterwarnings('ignore')


spark = SparkSession.builder.appName("diabetes").getOrCreate()


df = spark.read.csv("diabetes.csv", header=True, inferSchema=True)


df.show(2)


df.printSchema()


df.describe().toPandas()


df.groupby('Outcome').count().show()


import matplotlib.pyplot as plt
import seaborn as sns


fig = plt.figure(figsize=(25,15))
st = fig.suptitle("Distribution of Features", fontsize=50, verticalalignment="center")
for col, num in zip(df.toPandas().describe().columns, range(1,11)):
    ax = fig.add_subplot(3,4,num)
    ax.hist(df.toPandas()[col])
    plt.grid(False)
    plt.xticks(rotation=45, fontsize=20)
    plt.yticks(fontsize=15)
    plt.title(col.upper(), fontsize=20)

plt.tight_layout()
st.set_y(0.95)
fig.subplots_adjust(top=0.85, hspace=0.4)
plt.show()


from pyspark.sql.functions import isnan, when, count, col


# check for missing values
df.select([count(when(isnan(c),c)).alias(c) for c in df.columns]).toPandas().head()





from pyspark.sql.functions import udf
from pyspark.sql.types import StringType


y_udf = udf(lambda y: "no" if y == 0 else "yes", StringType())


df = df.withColumn("HasDiabetes", y_udf('Outcome')).drop("Outcome")


df.show(3)


def udf_multi(age):
    if (age < 25):
        return "Under 25"
    elif (age >= 25 and age <= 35):
        return "Between 25 and 35"
    elif (age > 35 and age < 50):
        return "Between 36 and 50"
    elif (age >= 50):
        return "Over 50"
    else:
        return "NA"


age_udf = udf(udf_multi)
df = df.withColumn('age_udf', age_udf('Age'))


df.show(2)


from pyspark.sql import functions as F
from pyspark.sql.functions import rank, sum, desc
from pyspark.sql import Window


window = Window.rowsBetween(Window.unboundedPreceding, Window.unboundedFollowing)


age_group_tab = df.select(["age_udf", "Glucose"]).groupby("age_udf").agg(F.count('Glucose').alias('UserCount'), 
                                                                         F.mean('Glucose').alias('Glucose_AVG'),
                                                                        F.min('Glucose').alias('Glucose_MIN'),
                                                                        F.max('Glucose').alias('Glucose_MAX')).\
                                                                    withColumn('total', sum(col('UserCount')).over(window)).\
                                                                    withColumn('Percent', col('UserCount')*100 / col('total')).\
                                                                    drop(col('total')).sort(desc('Percent'))


age_group_tab.show()


sns.barplot(x="age_udf", y="Percent", data=age_group_tab.toPandas())





df.printSchema()


numeric_features = [t[0] for t in df.dtypes if t[1] != 'string']
numeric_features_df = df.select(numeric_features)
numeric_features_df.toPandas().head()


col_names = numeric_features_df.columns
features = numeric_features_df.rdd.map(lambda row: row[0:])


from pyspark.mllib.stat import Statistics
import pandas as pd


corr_mat = Statistics.corr(features, method="pearson")
corr_df = pd.DataFrame(corr_mat)
corr_df.index = col_names
corr_df.columns = col_names
round(corr_df,2)


sns.heatmap(corr_df)



