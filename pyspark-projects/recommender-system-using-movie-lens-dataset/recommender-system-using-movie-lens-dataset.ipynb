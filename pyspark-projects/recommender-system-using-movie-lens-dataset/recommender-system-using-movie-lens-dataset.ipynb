{
 "cells": [
  {
   "cell_type": "markdown",
   "id": "04de37f5-c6ce-4389-9c40-08dedc37c3e3",
   "metadata": {},
   "source": [
    "### Recommender Systems with PySpark: Movie Lens Dataset"
   ]
  },
  {
   "cell_type": "markdown",
   "id": "32b8f064-3378-4da2-811f-1cce6f71d91a",
   "metadata": {},
   "source": [
    "#### Collaborative Filtering: Alternating Least Squares (ALS)"
   ]
  },
  {
   "cell_type": "markdown",
   "id": "0cd80165-fc03-41e0-8252-27842fc267fe",
   "metadata": {},
   "source": [
    "- numBlocks (-1 imply auto-config)\n",
    "- rank\n",
    "- iterations\n",
    "- lambda : regularization\n",
    "- implicitPref\n",
    "- alpha"
   ]
  },
  {
   "cell_type": "code",
   "execution_count": 24,
   "id": "a7be8130-60d7-42e6-9652-f75dd38bc9d5",
   "metadata": {},
   "outputs": [],
   "source": [
    "from pyspark.sql import SparkSession\n",
    "from pyspark.ml.evaluation import RegressionEvaluator\n",
    "from pyspark.ml.recommendation import ALS"
   ]
  },
  {
   "cell_type": "code",
   "execution_count": 25,
   "id": "91a22a49-7b42-47b7-aa02-44f5b1176135",
   "metadata": {},
   "outputs": [],
   "source": [
    "spark = SparkSession.builder.appName('movielens').getOrCreate()"
   ]
  },
  {
   "cell_type": "code",
   "execution_count": 26,
   "id": "f87965de-a4f7-40c9-833f-1b2bee6ce5c5",
   "metadata": {},
   "outputs": [
    {
     "name": "stdout",
     "output_type": "stream",
     "text": [
      "+------+-------+------+---------+\n",
      "|userId|movieId|rating|timestamp|\n",
      "+------+-------+------+---------+\n",
      "|     1|      1|   4.0|964982703|\n",
      "|     1|      3|   4.0|964981247|\n",
      "|     1|      6|   4.0|964982224|\n",
      "|     1|     47|   5.0|964983815|\n",
      "|     1|     50|   5.0|964982931|\n",
      "|     1|     70|   3.0|964982400|\n",
      "|     1|    101|   5.0|964980868|\n",
      "|     1|    110|   4.0|964982176|\n",
      "|     1|    151|   5.0|964984041|\n",
      "|     1|    157|   5.0|964984100|\n",
      "|     1|    163|   5.0|964983650|\n",
      "|     1|    216|   5.0|964981208|\n",
      "|     1|    223|   3.0|964980985|\n",
      "|     1|    231|   5.0|964981179|\n",
      "|     1|    235|   4.0|964980908|\n",
      "|     1|    260|   5.0|964981680|\n",
      "|     1|    296|   3.0|964982967|\n",
      "|     1|    316|   3.0|964982310|\n",
      "|     1|    333|   5.0|964981179|\n",
      "|     1|    349|   4.0|964982563|\n",
      "+------+-------+------+---------+\n",
      "only showing top 20 rows\n",
      "\n"
     ]
    }
   ],
   "source": [
    "df = spark.read.csv(\"ratings.csv\", inferSchema=True, header=True)\n",
    "df.show()"
   ]
  },
  {
   "cell_type": "code",
   "execution_count": 27,
   "id": "c4b63074-ff15-4803-8f5b-d8bc8a96067a",
   "metadata": {},
   "outputs": [
    {
     "name": "stdout",
     "output_type": "stream",
     "text": [
      "+-------+------------------+----------------+------------------+--------------------+\n",
      "|summary|            userId|         movieId|            rating|           timestamp|\n",
      "+-------+------------------+----------------+------------------+--------------------+\n",
      "|  count|            100836|          100836|            100836|              100836|\n",
      "|   mean|326.12756356856676|19435.2957177992| 3.501556983616962|1.2059460873684695E9|\n",
      "| stddev| 182.6184914635004|35530.9871987003|1.0425292390606342|2.1626103599513078E8|\n",
      "|    min|                 1|               1|               0.5|           828124615|\n",
      "|    max|               610|          193609|               5.0|          1537799250|\n",
      "+-------+------------------+----------------+------------------+--------------------+\n",
      "\n"
     ]
    }
   ],
   "source": [
    "df.describe().show()"
   ]
  },
  {
   "cell_type": "code",
   "execution_count": 28,
   "id": "5d99ee7a-1a2f-4c67-9d67-0e4b4ec99e72",
   "metadata": {},
   "outputs": [],
   "source": [
    "(train, test) = df.randomSplit([0.7, 0.3], seed=42)"
   ]
  },
  {
   "cell_type": "code",
   "execution_count": 29,
   "id": "d6d771cb-c7ec-4350-9450-f40be3bae5ab",
   "metadata": {},
   "outputs": [],
   "source": [
    "als = ALS(maxIter=5, regParam=0.01, userCol=\"userId\", itemCol=\"movieId\", ratingCol=\"rating\")"
   ]
  },
  {
   "cell_type": "code",
   "execution_count": 35,
   "id": "29bd5641-8c68-4c84-8fbd-f985ebca01c0",
   "metadata": {},
   "outputs": [
    {
     "data": {
      "text/plain": [
       "ALSModel: uid=ALS_a66ca433e500, rank=10"
      ]
     },
     "execution_count": 35,
     "metadata": {},
     "output_type": "execute_result"
    }
   ],
   "source": [
    "model = als.fit(train)\n",
    "model.setColdStartStrategy(\"drop\") # this code ensures NaN values are dropped"
   ]
  },
  {
   "cell_type": "code",
   "execution_count": 36,
   "id": "b7799b2b-d0d5-4380-8f1c-2c28ece3237b",
   "metadata": {},
   "outputs": [],
   "source": [
    "pred = model.transform(test)"
   ]
  },
  {
   "cell_type": "code",
   "execution_count": 37,
   "id": "1aff9058-a2e5-4808-8eb5-199185790560",
   "metadata": {},
   "outputs": [
    {
     "name": "stdout",
     "output_type": "stream",
     "text": [
      "+------+-------+------+----------+----------+\n",
      "|userId|movieId|rating| timestamp|prediction|\n",
      "+------+-------+------+----------+----------+\n",
      "|   463|   1088|   3.5|1145460096| 3.2061002|\n",
      "|   580|   3175|   2.5|1167792674| 4.3968816|\n",
      "|   580|  44022|   3.5|1167792560|  3.859246|\n",
      "|   362|   1645|   5.0|1530641485| 3.7456007|\n",
      "|   597|   1959|   4.0| 941640006| 4.3160577|\n",
      "|   155|   3175|   4.0| 961861723|  4.446461|\n",
      "|   368|   1645|   3.0| 975828061| 2.7419548|\n",
      "|   368|   2122|   2.0| 971277319| 2.5674756|\n",
      "|   115|   1645|   4.0| 957648208| 1.5511395|\n",
      "|   115|   3175|   4.0| 965425216|  4.373758|\n",
      "|    28|   1580|   3.0|1234516117| 2.8019404|\n",
      "|    28|   1645|   2.5|1242033151|  2.740254|\n",
      "|    28|   3175|   1.5|1242290498| 3.3846095|\n",
      "|   587|   1580|   4.0| 953138475| 4.3159933|\n",
      "|   587|   3175|   5.0| 953139667| 3.9039378|\n",
      "|   332|   1645|   3.5|1352672578| 3.0574317|\n",
      "|   332|   2366|   3.5|1352672632| 4.6366754|\n",
      "|   577|   1580|   3.0| 945965825| 3.6822178|\n",
      "|   577|   1959|   4.0| 945978449| 3.7257404|\n",
      "|   271|   6658|   2.0|1234302136| 2.5118532|\n",
      "+------+-------+------+----------+----------+\n",
      "only showing top 20 rows\n",
      "\n"
     ]
    }
   ],
   "source": [
    "pred.show()"
   ]
  },
  {
   "cell_type": "code",
   "execution_count": 38,
   "id": "de27f89c-ec94-4b52-a2ef-2c482f26eee0",
   "metadata": {},
   "outputs": [],
   "source": [
    "evaluator = RegressionEvaluator(metricName=\"rmse\", labelCol=\"rating\", predictionCol=\"prediction\")"
   ]
  },
  {
   "cell_type": "code",
   "execution_count": 39,
   "id": "f90e1ae6-bf0d-46e0-a1d8-d5c39334c0ba",
   "metadata": {},
   "outputs": [
    {
     "name": "stdout",
     "output_type": "stream",
     "text": [
      "RMSE: 1.0974903513817016\n"
     ]
    }
   ],
   "source": [
    "rmse = evaluator.evaluate(pred)\n",
    "print(f\"RMSE: {rmse}\")"
   ]
  },
  {
   "cell_type": "markdown",
   "id": "69836a29-222b-4575-bacf-206ae8253977",
   "metadata": {},
   "source": [
    "RMSE describe our error in terms of the starts rating column. "
   ]
  },
  {
   "cell_type": "code",
   "execution_count": 40,
   "id": "d7b5f8d7-ae47-4f06-8ab7-dc08664d4585",
   "metadata": {},
   "outputs": [
    {
     "name": "stdout",
     "output_type": "stream",
     "text": [
      "+-------+------+\n",
      "|movieId|userId|\n",
      "+-------+------+\n",
      "|      6|     1|\n",
      "|    101|     1|\n",
      "|    151|     1|\n",
      "|    157|     1|\n",
      "|    231|     1|\n",
      "|    235|     1|\n",
      "|    260|     1|\n",
      "|    349|     1|\n",
      "|    362|     1|\n",
      "|    423|     1|\n",
      "|    441|     1|\n",
      "|    527|     1|\n",
      "|    543|     1|\n",
      "|    552|     1|\n",
      "|    590|     1|\n",
      "|    593|     1|\n",
      "|    596|     1|\n",
      "|    673|     1|\n",
      "|    780|     1|\n",
      "|    804|     1|\n",
      "+-------+------+\n",
      "only showing top 20 rows\n",
      "\n"
     ]
    }
   ],
   "source": [
    "user_1 = test.filter(test['userId'] == 1).select(['movieId', 'userId'])\n",
    "user_1.show()"
   ]
  },
  {
   "cell_type": "code",
   "execution_count": 41,
   "id": "3559db36-4d6e-448b-82c1-0de9d69aea38",
   "metadata": {},
   "outputs": [],
   "source": [
    "rec = model.transform(user_1)"
   ]
  },
  {
   "cell_type": "code",
   "execution_count": 42,
   "id": "ef7a2dd5-c83e-457a-badb-69f3f63356a8",
   "metadata": {},
   "outputs": [
    {
     "name": "stderr",
     "output_type": "stream",
     "text": [
      "                                                                                \r"
     ]
    },
    {
     "name": "stdout",
     "output_type": "stream",
     "text": [
      "+-------+------+----------+\n",
      "|movieId|userId|prediction|\n",
      "+-------+------+----------+\n",
      "|    940|     1|  5.715617|\n",
      "|    101|     1| 5.4101367|\n",
      "|   1197|     1|  5.223727|\n",
      "|   1031|     1| 5.2082744|\n",
      "|   1214|     1|  5.120736|\n",
      "|   1258|     1| 5.1121025|\n",
      "|    527|     1|  5.017513|\n",
      "|    543|     1| 4.9827476|\n",
      "|   2959|     1|  4.981103|\n",
      "|    260|     1| 4.9798326|\n",
      "|   1198|     1| 4.9572086|\n",
      "|   1089|     1| 4.9299936|\n",
      "|      6|     1|  4.863474|\n",
      "|    441|     1| 4.8511815|\n",
      "|    593|     1| 4.7646637|\n",
      "|   3062|     1| 4.7323914|\n",
      "|   1396|     1| 4.7208004|\n",
      "|   3479|     1| 4.7125273|\n",
      "|    362|     1| 4.7007127|\n",
      "|   1220|     1|  4.692816|\n",
      "+-------+------+----------+\n",
      "only showing top 20 rows\n",
      "\n"
     ]
    }
   ],
   "source": [
    "rec.orderBy(\"prediction\", ascending=False).show()"
   ]
  },
  {
   "cell_type": "code",
   "execution_count": null,
   "id": "e9eaf9f5-0c07-476f-b91d-1ec93f8ec5f3",
   "metadata": {},
   "outputs": [],
   "source": []
  }
 ],
 "metadata": {
  "kernelspec": {
   "display_name": "Python 3 (ipykernel)",
   "language": "python",
   "name": "python3"
  },
  "language_info": {
   "codemirror_mode": {
    "name": "ipython",
    "version": 3
   },
   "file_extension": ".py",
   "mimetype": "text/x-python",
   "name": "python",
   "nbconvert_exporter": "python",
   "pygments_lexer": "ipython3",
   "version": "3.10.14"
  }
 },
 "nbformat": 4,
 "nbformat_minor": 5
}
