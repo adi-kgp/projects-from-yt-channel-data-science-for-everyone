


import numpy as np
import matplotlib.pyplot as plt


def f(x):
    return np.sin(x) + 0.5*x


def create_plot(x, y, styles, labels, axlabels):
    # Simplification function for plotting
    plt.figure(figsize=(9,6))
    for i in range(len(x)):
        plt.plot(x[i], y[i], styles[i], label=labels[i])
        plt.xlabel(axlabels[0])
        plt.ylabel(axlabels[1])
    plt.legend(loc=0)


# Create noisy data
x = np.linspace(-2*np.pi, 2*np.pi, 50)  # x values
x = x + 0.15 * np.random.standard_normal(len(x)) # add noise
y = f(x) + 0.25 * np.random.standard_normal(len(x)) # y values with noise


reg = np.polyfit(x, y, 7)
ry = np.polyval(reg, x)


create_plot([x,x], [f(x), ry], ['b', 'r.'], ['f(x)', 'd7_reg'], ['x', 'f(x)'])






