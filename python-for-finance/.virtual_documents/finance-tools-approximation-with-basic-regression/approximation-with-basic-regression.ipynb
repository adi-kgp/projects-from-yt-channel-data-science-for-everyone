


import numpy as np
import matplotlib.pyplot as plt


def f(x):
    return np.sin(x) + 0.5*x


def create_plot(x, y, styles, labels, axlabels):
    plt.figure(figsize=(10,6))
    for i in range(len(x)):
        plt.plot(x[i], y[i], styles[i], label=labels[i])
        plt.xlabel(axlabels[0])
        plt.ylabel(axlabels[1])
    plt.legend(loc=0)


x = np.linspace(-2 * np.pi, 2 * np.pi, 50)


create_plot([x], [f(x)], ['b'], ['f(x)'], ['x', 'f(x)'])


res = np.polyfit(x, f(x), deg=1, full=True) # lin reg


res


ry = np.polyval(res[0], x) # Eval reg params


create_plot([x,x], [f(x), ry], ['b', 'r.'], ['f(x)', 'lin_reg'], ['x', 'f(x)'])


reg = np.polyfit(x, f(x), deg=5)
ry = np.polyval(reg, x)


create_plot([x,x], [f(x), ry], ['b', 'r.'], ['f(x)', 'd5_reg'], ['x', 'f(x)'])


reg = np.polyfit(x, f(x), deg=7)
ry = np.polyval(reg, x)


create_plot([x,x], [f(x), ry], ['b', 'r.'], ['f(x)', 'd7_reg'], ['x', 'f(x)'])


np.allclose(f(x), ry) # Check func and reg values are same (or at least close)


# MSE
np.mean((f(x)-ry)**2)



